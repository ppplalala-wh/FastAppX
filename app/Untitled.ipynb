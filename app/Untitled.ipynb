{
 "cells": [
  {
   "cell_type": "code",
   "execution_count": 3,
   "id": "44bde84a",
   "metadata": {},
   "outputs": [],
   "source": [
    "import schemas"
   ]
  },
  {
   "cell_type": "code",
   "execution_count": 4,
   "id": "06fa5241",
   "metadata": {},
   "outputs": [],
   "source": [
    "from fastapi.encoders import jsonable_encoder"
   ]
  },
  {
   "cell_type": "code",
   "execution_count": 5,
   "id": "4360c717",
   "metadata": {},
   "outputs": [],
   "source": [
    "from typing import List, Union"
   ]
  },
  {
   "cell_type": "code",
   "execution_count": 6,
   "id": "49e43c0a",
   "metadata": {},
   "outputs": [],
   "source": [
    "fpmk_1 = schemas.Fpmk(date='2021-03-31', fpmk=12, subsystem='DOR', system='RSC')"
   ]
  },
  {
   "cell_type": "code",
   "execution_count": 7,
   "id": "9879fa63",
   "metadata": {},
   "outputs": [],
   "source": [
    "fpmk_2 = schemas.Fpmk(date='2021-04-30', fpmk=13, subsystem='DOR', system='RSC')"
   ]
  },
  {
   "cell_type": "code",
   "execution_count": 8,
   "id": "67b6c5da",
   "metadata": {},
   "outputs": [],
   "source": [
    "fpmk_3 = schemas.Fpmk(date='2021-05-31', fpmk=18, subsystem='DOR', system='RSC')"
   ]
  },
  {
   "cell_type": "code",
   "execution_count": 9,
   "id": "b26752bb",
   "metadata": {},
   "outputs": [],
   "source": [
    "fpmk_list = [fpmk_1, fpmk_2, fpmk_3]"
   ]
  },
  {
   "cell_type": "code",
   "execution_count": 50,
   "id": "820f614e",
   "metadata": {},
   "outputs": [],
   "source": [
    "import pandas as pd\n",
    "import json"
   ]
  },
  {
   "cell_type": "code",
   "execution_count": 51,
   "id": "68c7c3ad",
   "metadata": {},
   "outputs": [],
   "source": [
    "df = pd.DataFrame(data=jsonable_encoder(fpmk_list))"
   ]
  },
  {
   "cell_type": "code",
   "execution_count": 52,
   "id": "dadaec06",
   "metadata": {},
   "outputs": [],
   "source": [
    "df['date'] = pd.to_datetime(df['date'])"
   ]
  },
  {
   "cell_type": "code",
   "execution_count": 64,
   "id": "5e2d3d23",
   "metadata": {},
   "outputs": [
    {
     "data": {
      "text/plain": [
       "(3,)"
      ]
     },
     "execution_count": 64,
     "metadata": {},
     "output_type": "execute_result"
    }
   ],
   "source": [
    "df['date']"
   ]
  },
  {
   "cell_type": "code",
   "execution_count": 53,
   "id": "b58ffa86",
   "metadata": {},
   "outputs": [],
   "source": [
    "res = []\n",
    "for item in json.loads(df.to_json(orient='records')):\n",
    "    res.append(schemas.Fpmk(**item))"
   ]
  },
  {
   "cell_type": "code",
   "execution_count": 54,
   "id": "267b8a76",
   "metadata": {},
   "outputs": [
    {
     "data": {
      "text/plain": [
       "[Fpmk(system='RSC', subsystem='DOR', fpmk=12, date=datetime.date(2021, 3, 31)),\n",
       " Fpmk(system='RSC', subsystem='DOR', fpmk=13, date=datetime.date(2021, 4, 30)),\n",
       " Fpmk(system='RSC', subsystem='DOR', fpmk=18, date=datetime.date(2021, 5, 31))]"
      ]
     },
     "execution_count": 54,
     "metadata": {},
     "output_type": "execute_result"
    }
   ],
   "source": [
    "res"
   ]
  },
  {
   "cell_type": "code",
   "execution_count": 59,
   "id": "937dc339",
   "metadata": {},
   "outputs": [
    {
     "data": {
      "text/plain": [
       "True"
      ]
     },
     "execution_count": 59,
     "metadata": {},
     "output_type": "execute_result"
    }
   ],
   "source": [
    "'system' in df.columns"
   ]
  },
  {
   "cell_type": "code",
   "execution_count": 58,
   "id": "98b6de56",
   "metadata": {},
   "outputs": [
    {
     "name": "stdout",
     "output_type": "stream",
     "text": [
      "system\n",
      "subsystem\n",
      "fpmk\n",
      "date\n"
     ]
    }
   ],
   "source": [
    "for c in df.columns:\n",
    "    print(c)"
   ]
  },
  {
   "cell_type": "code",
   "execution_count": 15,
   "id": "96d190be",
   "metadata": {},
   "outputs": [],
   "source": [
    "df.set_index('date', inplace=True)"
   ]
  },
  {
   "cell_type": "code",
   "execution_count": 16,
   "id": "56486d4d",
   "metadata": {},
   "outputs": [],
   "source": [
    "df = df.asfreq('M')"
   ]
  },
  {
   "cell_type": "code",
   "execution_count": 90,
   "id": "d16828ea",
   "metadata": {},
   "outputs": [
    {
     "data": {
      "text/plain": [
       "'RSC'"
      ]
     },
     "execution_count": 90,
     "metadata": {},
     "output_type": "execute_result"
    }
   ],
   "source": [
    "df['system'].mode().values[0]"
   ]
  },
  {
   "cell_type": "code",
   "execution_count": 18,
   "id": "a220026d",
   "metadata": {},
   "outputs": [
    {
     "data": {
      "text/plain": [
       "Timestamp('2021-06-30 00:00:00', freq='M')"
      ]
     },
     "execution_count": 18,
     "metadata": {},
     "output_type": "execute_result"
    }
   ],
   "source": [
    "df['fpmk'].index.shift(1)[-1]"
   ]
  },
  {
   "cell_type": "code",
   "execution_count": 39,
   "id": "c67a362d",
   "metadata": {},
   "outputs": [],
   "source": [
    "res = df['fpmk']"
   ]
  },
  {
   "cell_type": "code",
   "execution_count": 40,
   "id": "466f9985",
   "metadata": {},
   "outputs": [
    {
     "data": {
      "text/plain": [
       "date\n",
       "2021-03-31    12\n",
       "2021-04-30    13\n",
       "2021-05-31    18\n",
       "Freq: M, Name: fpmk, dtype: int64"
      ]
     },
     "execution_count": 40,
     "metadata": {},
     "output_type": "execute_result"
    }
   ],
   "source": [
    "res"
   ]
  },
  {
   "cell_type": "code",
   "execution_count": 28,
   "id": "b5a2ecd2",
   "metadata": {},
   "outputs": [],
   "source": [
    "res = pd.DataFrame(res, columns=['fpmk'])"
   ]
  },
  {
   "cell_type": "code",
   "execution_count": 47,
   "id": "bca5e73e",
   "metadata": {},
   "outputs": [
    {
     "data": {
      "text/plain": [
       "date\n",
       "2021-03-31    12\n",
       "2021-04-30    13\n",
       "2021-05-31    18\n",
       "Freq: M, Name: fpmk, dtype: int64"
      ]
     },
     "execution_count": 47,
     "metadata": {},
     "output_type": "execute_result"
    }
   ],
   "source": [
    "res"
   ]
  },
  {
   "cell_type": "code",
   "execution_count": 34,
   "id": "7f0c0475",
   "metadata": {},
   "outputs": [],
   "source": [
    "res = res.reset_index()"
   ]
  },
  {
   "cell_type": "code",
   "execution_count": 82,
   "id": "52eeba34",
   "metadata": {},
   "outputs": [],
   "source": [
    "res['sys_cd'] = 'RSC'"
   ]
  },
  {
   "cell_type": "code",
   "execution_count": 36,
   "id": "3a750ec6",
   "metadata": {},
   "outputs": [
    {
     "data": {
      "text/plain": [
       "array([0, 1, 2], dtype=int64)"
      ]
     },
     "execution_count": 36,
     "metadata": {},
     "output_type": "execute_result"
    }
   ],
   "source": [
    "res.index.values"
   ]
  },
  {
   "cell_type": "code",
   "execution_count": 1,
   "id": "45cb47ca",
   "metadata": {},
   "outputs": [],
   "source": [
    "import numpy as np"
   ]
  },
  {
   "cell_type": "code",
   "execution_count": 25,
   "id": "9f85c3db",
   "metadata": {},
   "outputs": [
    {
     "data": {
      "text/plain": [
       "3.4011973816621555"
      ]
     },
     "execution_count": 25,
     "metadata": {},
     "output_type": "execute_result"
    }
   ],
   "source": [
    "np.log(30)"
   ]
  },
  {
   "cell_type": "code",
   "execution_count": 27,
   "id": "bf87cc7f",
   "metadata": {},
   "outputs": [
    {
     "data": {
      "text/plain": [
       "array(['2021-03-31T00:00:00.000000000', '2021-04-30T00:00:00.000000000',\n",
       "       '2021-05-31T00:00:00.000000000'], dtype='datetime64[ns]')"
      ]
     },
     "execution_count": 27,
     "metadata": {},
     "output_type": "execute_result"
    }
   ],
   "source": [
    "res.index.values"
   ]
  },
  {
   "cell_type": "code",
   "execution_count": 43,
   "id": "4549ba5f",
   "metadata": {},
   "outputs": [
    {
     "data": {
      "text/plain": [
       "[1, 2, 3, 4, 5]"
      ]
     },
     "execution_count": 43,
     "metadata": {},
     "output_type": "execute_result"
    }
   ],
   "source": [
    "[x for x in range(1, 6)]"
   ]
  },
  {
   "cell_type": "code",
   "execution_count": 66,
   "id": "95058d33",
   "metadata": {},
   "outputs": [
    {
     "data": {
      "text/plain": [
       "64843.56150250006"
      ]
     },
     "execution_count": 66,
     "metadata": {},
     "output_type": "execute_result"
    }
   ],
   "source": [
    "1.1**10 * 25000"
   ]
  },
  {
   "cell_type": "code",
   "execution_count": 85,
   "id": "07a559e5",
   "metadata": {},
   "outputs": [
    {
     "data": {
      "text/plain": [
       "array([[3],\n",
       "       [4],\n",
       "       [5]])"
      ]
     },
     "execution_count": 85,
     "metadata": {},
     "output_type": "execute_result"
    }
   ],
   "source": [
    "np.arange(3, 6).reshape(-1, 1)"
   ]
  },
  {
   "cell_type": "code",
   "execution_count": null,
   "id": "89d268b1",
   "metadata": {},
   "outputs": [],
   "source": []
  }
 ],
 "metadata": {
  "kernelspec": {
   "display_name": "Python 3 (ipykernel)",
   "language": "python",
   "name": "python3"
  },
  "language_info": {
   "codemirror_mode": {
    "name": "ipython",
    "version": 3
   },
   "file_extension": ".py",
   "mimetype": "text/x-python",
   "name": "python",
   "nbconvert_exporter": "python",
   "pygments_lexer": "ipython3",
   "version": "3.9.13"
  }
 },
 "nbformat": 4,
 "nbformat_minor": 5
}
