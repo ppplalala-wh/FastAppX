{
 "cells": [
  {
   "cell_type": "code",
   "execution_count": 1,
   "id": "11789e3b",
   "metadata": {},
   "outputs": [],
   "source": [
    "from typing import Union, List, Type, TypeVar, Generic\n",
    "from sklearn.preprocessing import MinMaxScaler, StandardScaler, RobustScaler\n",
    "from fastapi.encoders import jsonable_encoder\n",
    "from schemas import FpmkCreate\n",
    "import schemas\n",
    "import pandas as pd\n",
    "import json\n",
    "import numpy as np"
   ]
  },
  {
   "cell_type": "code",
   "execution_count": 31,
   "id": "c95ea452",
   "metadata": {},
   "outputs": [],
   "source": [
    "t = pd.DataFrame(haha['data'])"
   ]
  },
  {
   "cell_type": "code",
   "execution_count": 32,
   "id": "1bf76c96",
   "metadata": {},
   "outputs": [],
   "source": [
    "t['date'] = pd.to_datetime(t['date'],format='%Y-%m-%d')"
   ]
  },
  {
   "cell_type": "code",
   "execution_count": 33,
   "id": "3002f15d",
   "metadata": {},
   "outputs": [
    {
     "data": {
      "text/html": [
       "<div>\n",
       "<style scoped>\n",
       "    .dataframe tbody tr th:only-of-type {\n",
       "        vertical-align: middle;\n",
       "    }\n",
       "\n",
       "    .dataframe tbody tr th {\n",
       "        vertical-align: top;\n",
       "    }\n",
       "\n",
       "    .dataframe thead th {\n",
       "        text-align: right;\n",
       "    }\n",
       "</style>\n",
       "<table border=\"1\" class=\"dataframe\">\n",
       "  <thead>\n",
       "    <tr style=\"text-align: right;\">\n",
       "      <th></th>\n",
       "      <th>system</th>\n",
       "      <th>subsystem</th>\n",
       "      <th>mileage</th>\n",
       "      <th>unit</th>\n",
       "      <th>fpmk</th>\n",
       "      <th>date</th>\n",
       "    </tr>\n",
       "  </thead>\n",
       "  <tbody>\n",
       "    <tr>\n",
       "      <th>0</th>\n",
       "      <td>RSC</td>\n",
       "      <td>DOR</td>\n",
       "      <td>1000</td>\n",
       "      <td>km</td>\n",
       "      <td>7.0</td>\n",
       "      <td>2022-03-31 00:00:00+00:00</td>\n",
       "    </tr>\n",
       "    <tr>\n",
       "      <th>1</th>\n",
       "      <td>RSC</td>\n",
       "      <td>DOR</td>\n",
       "      <td>1500</td>\n",
       "      <td>km</td>\n",
       "      <td>5.0</td>\n",
       "      <td>2022-04-30 00:00:00+00:00</td>\n",
       "    </tr>\n",
       "    <tr>\n",
       "      <th>2</th>\n",
       "      <td>RSC</td>\n",
       "      <td>DOR</td>\n",
       "      <td>2000</td>\n",
       "      <td>km</td>\n",
       "      <td>6.0</td>\n",
       "      <td>2022-05-31 00:00:00+00:00</td>\n",
       "    </tr>\n",
       "    <tr>\n",
       "      <th>3</th>\n",
       "      <td>RSC</td>\n",
       "      <td>DOR</td>\n",
       "      <td>2300</td>\n",
       "      <td>km</td>\n",
       "      <td>7.0</td>\n",
       "      <td>2022-06-30 00:00:00+00:00</td>\n",
       "    </tr>\n",
       "    <tr>\n",
       "      <th>4</th>\n",
       "      <td>RSC</td>\n",
       "      <td>DOR</td>\n",
       "      <td>2700</td>\n",
       "      <td>km</td>\n",
       "      <td>4.0</td>\n",
       "      <td>2022-07-31 00:00:00+00:00</td>\n",
       "    </tr>\n",
       "    <tr>\n",
       "      <th>5</th>\n",
       "      <td>RSC</td>\n",
       "      <td>DOR</td>\n",
       "      <td>3200</td>\n",
       "      <td>km</td>\n",
       "      <td>5.0</td>\n",
       "      <td>2022-08-31 00:00:00+00:00</td>\n",
       "    </tr>\n",
       "    <tr>\n",
       "      <th>6</th>\n",
       "      <td>RSC</td>\n",
       "      <td>DOR</td>\n",
       "      <td>3400</td>\n",
       "      <td>km</td>\n",
       "      <td>3.0</td>\n",
       "      <td>2022-09-30 00:00:00+00:00</td>\n",
       "    </tr>\n",
       "    <tr>\n",
       "      <th>7</th>\n",
       "      <td>RSC</td>\n",
       "      <td>DOR</td>\n",
       "      <td>4000</td>\n",
       "      <td>km</td>\n",
       "      <td>2.0</td>\n",
       "      <td>2022-10-31 00:00:00+00:00</td>\n",
       "    </tr>\n",
       "  </tbody>\n",
       "</table>\n",
       "</div>"
      ],
      "text/plain": [
       "  system subsystem  mileage unit  fpmk                      date\n",
       "0    RSC       DOR     1000   km   7.0 2022-03-31 00:00:00+00:00\n",
       "1    RSC       DOR     1500   km   5.0 2022-04-30 00:00:00+00:00\n",
       "2    RSC       DOR     2000   km   6.0 2022-05-31 00:00:00+00:00\n",
       "3    RSC       DOR     2300   km   7.0 2022-06-30 00:00:00+00:00\n",
       "4    RSC       DOR     2700   km   4.0 2022-07-31 00:00:00+00:00\n",
       "5    RSC       DOR     3200   km   5.0 2022-08-31 00:00:00+00:00\n",
       "6    RSC       DOR     3400   km   3.0 2022-09-30 00:00:00+00:00\n",
       "7    RSC       DOR     4000   km   2.0 2022-10-31 00:00:00+00:00"
      ]
     },
     "execution_count": 33,
     "metadata": {},
     "output_type": "execute_result"
    }
   ],
   "source": [
    "t"
   ]
  },
  {
   "cell_type": "code",
   "execution_count": 18,
   "id": "2d2fc7cd",
   "metadata": {},
   "outputs": [
    {
     "ename": "ValueError",
     "evalue": "Invalid file path or buffer object type: <class 'list'>",
     "output_type": "error",
     "traceback": [
      "\u001b[0;31m---------------------------------------------------------------------------\u001b[0m",
      "\u001b[0;31mValueError\u001b[0m                                Traceback (most recent call last)",
      "Input \u001b[0;32mIn [18]\u001b[0m, in \u001b[0;36m<cell line: 6>\u001b[0;34m()\u001b[0m\n\u001b[1;32m      4\u001b[0m     \u001b[38;5;28mprint\u001b[39m(\u001b[38;5;124m'\u001b[39m\u001b[38;5;124mGG\u001b[39m\u001b[38;5;124m'\u001b[39m)\n\u001b[1;32m      5\u001b[0m haha \u001b[38;5;241m=\u001b[39m json\u001b[38;5;241m.\u001b[39mload(file)\n\u001b[0;32m----> 6\u001b[0m data \u001b[38;5;241m=\u001b[39m \u001b[43mpd\u001b[49m\u001b[38;5;241;43m.\u001b[39;49m\u001b[43mread_json\u001b[49m\u001b[43m(\u001b[49m\u001b[43mhaha\u001b[49m\u001b[43m[\u001b[49m\u001b[38;5;124;43m'\u001b[39;49m\u001b[38;5;124;43mdata\u001b[39;49m\u001b[38;5;124;43m'\u001b[39;49m\u001b[43m]\u001b[49m\u001b[43m,\u001b[49m\u001b[43m \u001b[49m\u001b[43morient\u001b[49m\u001b[38;5;241;43m=\u001b[39;49m\u001b[38;5;124;43m'\u001b[39;49m\u001b[38;5;124;43mrecords\u001b[39;49m\u001b[38;5;124;43m'\u001b[39;49m\u001b[43m)\u001b[49m\n\u001b[1;32m      7\u001b[0m file\u001b[38;5;241m.\u001b[39mclose()\n",
      "File \u001b[0;32m~/.virtualenvs/fastEnv/lib/python3.8/site-packages/pandas/util/_decorators.py:207\u001b[0m, in \u001b[0;36mdeprecate_kwarg.<locals>._deprecate_kwarg.<locals>.wrapper\u001b[0;34m(*args, **kwargs)\u001b[0m\n\u001b[1;32m    205\u001b[0m     \u001b[38;5;28;01melse\u001b[39;00m:\n\u001b[1;32m    206\u001b[0m         kwargs[new_arg_name] \u001b[38;5;241m=\u001b[39m new_arg_value\n\u001b[0;32m--> 207\u001b[0m \u001b[38;5;28;01mreturn\u001b[39;00m \u001b[43mfunc\u001b[49m\u001b[43m(\u001b[49m\u001b[38;5;241;43m*\u001b[39;49m\u001b[43margs\u001b[49m\u001b[43m,\u001b[49m\u001b[43m \u001b[49m\u001b[38;5;241;43m*\u001b[39;49m\u001b[38;5;241;43m*\u001b[39;49m\u001b[43mkwargs\u001b[49m\u001b[43m)\u001b[49m\n",
      "File \u001b[0;32m~/.virtualenvs/fastEnv/lib/python3.8/site-packages/pandas/util/_decorators.py:311\u001b[0m, in \u001b[0;36mdeprecate_nonkeyword_arguments.<locals>.decorate.<locals>.wrapper\u001b[0;34m(*args, **kwargs)\u001b[0m\n\u001b[1;32m    305\u001b[0m \u001b[38;5;28;01mif\u001b[39;00m \u001b[38;5;28mlen\u001b[39m(args) \u001b[38;5;241m>\u001b[39m num_allow_args:\n\u001b[1;32m    306\u001b[0m     warnings\u001b[38;5;241m.\u001b[39mwarn(\n\u001b[1;32m    307\u001b[0m         msg\u001b[38;5;241m.\u001b[39mformat(arguments\u001b[38;5;241m=\u001b[39marguments),\n\u001b[1;32m    308\u001b[0m         \u001b[38;5;167;01mFutureWarning\u001b[39;00m,\n\u001b[1;32m    309\u001b[0m         stacklevel\u001b[38;5;241m=\u001b[39mstacklevel,\n\u001b[1;32m    310\u001b[0m     )\n\u001b[0;32m--> 311\u001b[0m \u001b[38;5;28;01mreturn\u001b[39;00m \u001b[43mfunc\u001b[49m\u001b[43m(\u001b[49m\u001b[38;5;241;43m*\u001b[39;49m\u001b[43margs\u001b[49m\u001b[43m,\u001b[49m\u001b[43m \u001b[49m\u001b[38;5;241;43m*\u001b[39;49m\u001b[38;5;241;43m*\u001b[39;49m\u001b[43mkwargs\u001b[49m\u001b[43m)\u001b[49m\n",
      "File \u001b[0;32m~/.virtualenvs/fastEnv/lib/python3.8/site-packages/pandas/io/json/_json.py:588\u001b[0m, in \u001b[0;36mread_json\u001b[0;34m(path_or_buf, orient, typ, dtype, convert_axes, convert_dates, keep_default_dates, numpy, precise_float, date_unit, encoding, encoding_errors, lines, chunksize, compression, nrows, storage_options)\u001b[0m\n\u001b[1;32m    585\u001b[0m \u001b[38;5;28;01mif\u001b[39;00m convert_axes \u001b[38;5;129;01mis\u001b[39;00m \u001b[38;5;28;01mNone\u001b[39;00m \u001b[38;5;129;01mand\u001b[39;00m orient \u001b[38;5;241m!=\u001b[39m \u001b[38;5;124m\"\u001b[39m\u001b[38;5;124mtable\u001b[39m\u001b[38;5;124m\"\u001b[39m:\n\u001b[1;32m    586\u001b[0m     convert_axes \u001b[38;5;241m=\u001b[39m \u001b[38;5;28;01mTrue\u001b[39;00m\n\u001b[0;32m--> 588\u001b[0m json_reader \u001b[38;5;241m=\u001b[39m \u001b[43mJsonReader\u001b[49m\u001b[43m(\u001b[49m\n\u001b[1;32m    589\u001b[0m \u001b[43m    \u001b[49m\u001b[43mpath_or_buf\u001b[49m\u001b[43m,\u001b[49m\n\u001b[1;32m    590\u001b[0m \u001b[43m    \u001b[49m\u001b[43morient\u001b[49m\u001b[38;5;241;43m=\u001b[39;49m\u001b[43morient\u001b[49m\u001b[43m,\u001b[49m\n\u001b[1;32m    591\u001b[0m \u001b[43m    \u001b[49m\u001b[43mtyp\u001b[49m\u001b[38;5;241;43m=\u001b[39;49m\u001b[43mtyp\u001b[49m\u001b[43m,\u001b[49m\n\u001b[1;32m    592\u001b[0m \u001b[43m    \u001b[49m\u001b[43mdtype\u001b[49m\u001b[38;5;241;43m=\u001b[39;49m\u001b[43mdtype\u001b[49m\u001b[43m,\u001b[49m\n\u001b[1;32m    593\u001b[0m \u001b[43m    \u001b[49m\u001b[43mconvert_axes\u001b[49m\u001b[38;5;241;43m=\u001b[39;49m\u001b[43mconvert_axes\u001b[49m\u001b[43m,\u001b[49m\n\u001b[1;32m    594\u001b[0m \u001b[43m    \u001b[49m\u001b[43mconvert_dates\u001b[49m\u001b[38;5;241;43m=\u001b[39;49m\u001b[43mconvert_dates\u001b[49m\u001b[43m,\u001b[49m\n\u001b[1;32m    595\u001b[0m \u001b[43m    \u001b[49m\u001b[43mkeep_default_dates\u001b[49m\u001b[38;5;241;43m=\u001b[39;49m\u001b[43mkeep_default_dates\u001b[49m\u001b[43m,\u001b[49m\n\u001b[1;32m    596\u001b[0m \u001b[43m    \u001b[49m\u001b[43mnumpy\u001b[49m\u001b[38;5;241;43m=\u001b[39;49m\u001b[43mnumpy\u001b[49m\u001b[43m,\u001b[49m\n\u001b[1;32m    597\u001b[0m \u001b[43m    \u001b[49m\u001b[43mprecise_float\u001b[49m\u001b[38;5;241;43m=\u001b[39;49m\u001b[43mprecise_float\u001b[49m\u001b[43m,\u001b[49m\n\u001b[1;32m    598\u001b[0m \u001b[43m    \u001b[49m\u001b[43mdate_unit\u001b[49m\u001b[38;5;241;43m=\u001b[39;49m\u001b[43mdate_unit\u001b[49m\u001b[43m,\u001b[49m\n\u001b[1;32m    599\u001b[0m \u001b[43m    \u001b[49m\u001b[43mencoding\u001b[49m\u001b[38;5;241;43m=\u001b[39;49m\u001b[43mencoding\u001b[49m\u001b[43m,\u001b[49m\n\u001b[1;32m    600\u001b[0m \u001b[43m    \u001b[49m\u001b[43mlines\u001b[49m\u001b[38;5;241;43m=\u001b[39;49m\u001b[43mlines\u001b[49m\u001b[43m,\u001b[49m\n\u001b[1;32m    601\u001b[0m \u001b[43m    \u001b[49m\u001b[43mchunksize\u001b[49m\u001b[38;5;241;43m=\u001b[39;49m\u001b[43mchunksize\u001b[49m\u001b[43m,\u001b[49m\n\u001b[1;32m    602\u001b[0m \u001b[43m    \u001b[49m\u001b[43mcompression\u001b[49m\u001b[38;5;241;43m=\u001b[39;49m\u001b[43mcompression\u001b[49m\u001b[43m,\u001b[49m\n\u001b[1;32m    603\u001b[0m \u001b[43m    \u001b[49m\u001b[43mnrows\u001b[49m\u001b[38;5;241;43m=\u001b[39;49m\u001b[43mnrows\u001b[49m\u001b[43m,\u001b[49m\n\u001b[1;32m    604\u001b[0m \u001b[43m    \u001b[49m\u001b[43mstorage_options\u001b[49m\u001b[38;5;241;43m=\u001b[39;49m\u001b[43mstorage_options\u001b[49m\u001b[43m,\u001b[49m\n\u001b[1;32m    605\u001b[0m \u001b[43m    \u001b[49m\u001b[43mencoding_errors\u001b[49m\u001b[38;5;241;43m=\u001b[39;49m\u001b[43mencoding_errors\u001b[49m\u001b[43m,\u001b[49m\n\u001b[1;32m    606\u001b[0m \u001b[43m\u001b[49m\u001b[43m)\u001b[49m\n\u001b[1;32m    608\u001b[0m \u001b[38;5;28;01mif\u001b[39;00m chunksize:\n\u001b[1;32m    609\u001b[0m     \u001b[38;5;28;01mreturn\u001b[39;00m json_reader\n",
      "File \u001b[0;32m~/.virtualenvs/fastEnv/lib/python3.8/site-packages/pandas/io/json/_json.py:673\u001b[0m, in \u001b[0;36mJsonReader.__init__\u001b[0;34m(self, filepath_or_buffer, orient, typ, dtype, convert_axes, convert_dates, keep_default_dates, numpy, precise_float, date_unit, encoding, lines, chunksize, compression, nrows, storage_options, encoding_errors)\u001b[0m\n\u001b[1;32m    670\u001b[0m     \u001b[38;5;28;01mif\u001b[39;00m \u001b[38;5;129;01mnot\u001b[39;00m \u001b[38;5;28mself\u001b[39m\u001b[38;5;241m.\u001b[39mlines:\n\u001b[1;32m    671\u001b[0m         \u001b[38;5;28;01mraise\u001b[39;00m \u001b[38;5;167;01mValueError\u001b[39;00m(\u001b[38;5;124m\"\u001b[39m\u001b[38;5;124mnrows can only be passed if lines=True\u001b[39m\u001b[38;5;124m\"\u001b[39m)\n\u001b[0;32m--> 673\u001b[0m data \u001b[38;5;241m=\u001b[39m \u001b[38;5;28;43mself\u001b[39;49m\u001b[38;5;241;43m.\u001b[39;49m\u001b[43m_get_data_from_filepath\u001b[49m\u001b[43m(\u001b[49m\u001b[43mfilepath_or_buffer\u001b[49m\u001b[43m)\u001b[49m\n\u001b[1;32m    674\u001b[0m \u001b[38;5;28mself\u001b[39m\u001b[38;5;241m.\u001b[39mdata \u001b[38;5;241m=\u001b[39m \u001b[38;5;28mself\u001b[39m\u001b[38;5;241m.\u001b[39m_preprocess_data(data)\n",
      "File \u001b[0;32m~/.virtualenvs/fastEnv/lib/python3.8/site-packages/pandas/io/json/_json.py:710\u001b[0m, in \u001b[0;36mJsonReader._get_data_from_filepath\u001b[0;34m(self, filepath_or_buffer)\u001b[0m\n\u001b[1;32m    703\u001b[0m filepath_or_buffer \u001b[38;5;241m=\u001b[39m stringify_path(filepath_or_buffer)\n\u001b[1;32m    704\u001b[0m \u001b[38;5;28;01mif\u001b[39;00m (\n\u001b[1;32m    705\u001b[0m     \u001b[38;5;129;01mnot\u001b[39;00m \u001b[38;5;28misinstance\u001b[39m(filepath_or_buffer, \u001b[38;5;28mstr\u001b[39m)\n\u001b[1;32m    706\u001b[0m     \u001b[38;5;129;01mor\u001b[39;00m is_url(filepath_or_buffer)\n\u001b[1;32m    707\u001b[0m     \u001b[38;5;129;01mor\u001b[39;00m is_fsspec_url(filepath_or_buffer)\n\u001b[1;32m    708\u001b[0m     \u001b[38;5;129;01mor\u001b[39;00m file_exists(filepath_or_buffer)\n\u001b[1;32m    709\u001b[0m ):\n\u001b[0;32m--> 710\u001b[0m     \u001b[38;5;28mself\u001b[39m\u001b[38;5;241m.\u001b[39mhandles \u001b[38;5;241m=\u001b[39m \u001b[43mget_handle\u001b[49m\u001b[43m(\u001b[49m\n\u001b[1;32m    711\u001b[0m \u001b[43m        \u001b[49m\u001b[43mfilepath_or_buffer\u001b[49m\u001b[43m,\u001b[49m\n\u001b[1;32m    712\u001b[0m \u001b[43m        \u001b[49m\u001b[38;5;124;43m\"\u001b[39;49m\u001b[38;5;124;43mr\u001b[39;49m\u001b[38;5;124;43m\"\u001b[39;49m\u001b[43m,\u001b[49m\n\u001b[1;32m    713\u001b[0m \u001b[43m        \u001b[49m\u001b[43mencoding\u001b[49m\u001b[38;5;241;43m=\u001b[39;49m\u001b[38;5;28;43mself\u001b[39;49m\u001b[38;5;241;43m.\u001b[39;49m\u001b[43mencoding\u001b[49m\u001b[43m,\u001b[49m\n\u001b[1;32m    714\u001b[0m \u001b[43m        \u001b[49m\u001b[43mcompression\u001b[49m\u001b[38;5;241;43m=\u001b[39;49m\u001b[38;5;28;43mself\u001b[39;49m\u001b[38;5;241;43m.\u001b[39;49m\u001b[43mcompression\u001b[49m\u001b[43m,\u001b[49m\n\u001b[1;32m    715\u001b[0m \u001b[43m        \u001b[49m\u001b[43mstorage_options\u001b[49m\u001b[38;5;241;43m=\u001b[39;49m\u001b[38;5;28;43mself\u001b[39;49m\u001b[38;5;241;43m.\u001b[39;49m\u001b[43mstorage_options\u001b[49m\u001b[43m,\u001b[49m\n\u001b[1;32m    716\u001b[0m \u001b[43m        \u001b[49m\u001b[43merrors\u001b[49m\u001b[38;5;241;43m=\u001b[39;49m\u001b[38;5;28;43mself\u001b[39;49m\u001b[38;5;241;43m.\u001b[39;49m\u001b[43mencoding_errors\u001b[49m\u001b[43m,\u001b[49m\n\u001b[1;32m    717\u001b[0m \u001b[43m    \u001b[49m\u001b[43m)\u001b[49m\n\u001b[1;32m    718\u001b[0m     filepath_or_buffer \u001b[38;5;241m=\u001b[39m \u001b[38;5;28mself\u001b[39m\u001b[38;5;241m.\u001b[39mhandles\u001b[38;5;241m.\u001b[39mhandle\n\u001b[1;32m    720\u001b[0m \u001b[38;5;28;01mreturn\u001b[39;00m filepath_or_buffer\n",
      "File \u001b[0;32m~/.virtualenvs/fastEnv/lib/python3.8/site-packages/pandas/io/common.py:667\u001b[0m, in \u001b[0;36mget_handle\u001b[0;34m(path_or_buf, mode, encoding, compression, memory_map, is_text, errors, storage_options)\u001b[0m\n\u001b[1;32m    664\u001b[0m     codecs\u001b[38;5;241m.\u001b[39mlookup_error(errors)\n\u001b[1;32m    666\u001b[0m \u001b[38;5;66;03m# open URLs\u001b[39;00m\n\u001b[0;32m--> 667\u001b[0m ioargs \u001b[38;5;241m=\u001b[39m \u001b[43m_get_filepath_or_buffer\u001b[49m\u001b[43m(\u001b[49m\n\u001b[1;32m    668\u001b[0m \u001b[43m    \u001b[49m\u001b[43mpath_or_buf\u001b[49m\u001b[43m,\u001b[49m\n\u001b[1;32m    669\u001b[0m \u001b[43m    \u001b[49m\u001b[43mencoding\u001b[49m\u001b[38;5;241;43m=\u001b[39;49m\u001b[43mencoding\u001b[49m\u001b[43m,\u001b[49m\n\u001b[1;32m    670\u001b[0m \u001b[43m    \u001b[49m\u001b[43mcompression\u001b[49m\u001b[38;5;241;43m=\u001b[39;49m\u001b[43mcompression\u001b[49m\u001b[43m,\u001b[49m\n\u001b[1;32m    671\u001b[0m \u001b[43m    \u001b[49m\u001b[43mmode\u001b[49m\u001b[38;5;241;43m=\u001b[39;49m\u001b[43mmode\u001b[49m\u001b[43m,\u001b[49m\n\u001b[1;32m    672\u001b[0m \u001b[43m    \u001b[49m\u001b[43mstorage_options\u001b[49m\u001b[38;5;241;43m=\u001b[39;49m\u001b[43mstorage_options\u001b[49m\u001b[43m,\u001b[49m\n\u001b[1;32m    673\u001b[0m \u001b[43m\u001b[49m\u001b[43m)\u001b[49m\n\u001b[1;32m    675\u001b[0m handle \u001b[38;5;241m=\u001b[39m ioargs\u001b[38;5;241m.\u001b[39mfilepath_or_buffer\n\u001b[1;32m    676\u001b[0m handles: \u001b[38;5;28mlist\u001b[39m[BaseBuffer]\n",
      "File \u001b[0;32m~/.virtualenvs/fastEnv/lib/python3.8/site-packages/pandas/io/common.py:424\u001b[0m, in \u001b[0;36m_get_filepath_or_buffer\u001b[0;34m(filepath_or_buffer, encoding, compression, mode, storage_options)\u001b[0m\n\u001b[1;32m    420\u001b[0m \u001b[38;5;28;01mif\u001b[39;00m \u001b[38;5;129;01mnot\u001b[39;00m (\n\u001b[1;32m    421\u001b[0m     \u001b[38;5;28mhasattr\u001b[39m(filepath_or_buffer, \u001b[38;5;124m\"\u001b[39m\u001b[38;5;124mread\u001b[39m\u001b[38;5;124m\"\u001b[39m) \u001b[38;5;129;01mor\u001b[39;00m \u001b[38;5;28mhasattr\u001b[39m(filepath_or_buffer, \u001b[38;5;124m\"\u001b[39m\u001b[38;5;124mwrite\u001b[39m\u001b[38;5;124m\"\u001b[39m)\n\u001b[1;32m    422\u001b[0m ):\n\u001b[1;32m    423\u001b[0m     msg \u001b[38;5;241m=\u001b[39m \u001b[38;5;124mf\u001b[39m\u001b[38;5;124m\"\u001b[39m\u001b[38;5;124mInvalid file path or buffer object type: \u001b[39m\u001b[38;5;132;01m{\u001b[39;00m\u001b[38;5;28mtype\u001b[39m(filepath_or_buffer)\u001b[38;5;132;01m}\u001b[39;00m\u001b[38;5;124m\"\u001b[39m\n\u001b[0;32m--> 424\u001b[0m     \u001b[38;5;28;01mraise\u001b[39;00m \u001b[38;5;167;01mValueError\u001b[39;00m(msg)\n\u001b[1;32m    426\u001b[0m \u001b[38;5;28;01mreturn\u001b[39;00m IOArgs(\n\u001b[1;32m    427\u001b[0m     filepath_or_buffer\u001b[38;5;241m=\u001b[39mfilepath_or_buffer,\n\u001b[1;32m    428\u001b[0m     encoding\u001b[38;5;241m=\u001b[39mencoding,\n\u001b[0;32m   (...)\u001b[0m\n\u001b[1;32m    431\u001b[0m     mode\u001b[38;5;241m=\u001b[39mmode,\n\u001b[1;32m    432\u001b[0m )\n",
      "\u001b[0;31mValueError\u001b[0m: Invalid file path or buffer object type: <class 'list'>"
     ]
    }
   ],
   "source": [
    "try:\n",
    "    file = open(f\"model_register/aad76f87.json\")\n",
    "except FileNotFoundError:\n",
    "    print('GG')\n",
    "haha = json.load(file)\n",
    "data = pd.read_json(haha['data'], orient='records')\n",
    "file.close()"
   ]
  },
  {
   "cell_type": "code",
   "execution_count": 2,
   "id": "4f7c67d2",
   "metadata": {},
   "outputs": [],
   "source": [
    "import random"
   ]
  },
  {
   "cell_type": "code",
   "execution_count": 13,
   "id": "3e6b6bc2",
   "metadata": {},
   "outputs": [
    {
     "data": {
      "text/plain": [
       "array([1])"
      ]
     },
     "execution_count": 13,
     "metadata": {},
     "output_type": "execute_result"
    }
   ],
   "source": [
    "np.array([1])"
   ]
  },
  {
   "cell_type": "code",
   "execution_count": 14,
   "id": "a7153e4c",
   "metadata": {},
   "outputs": [
    {
     "data": {
      "text/plain": [
       "0    1\n",
       "dtype: int64"
      ]
     },
     "execution_count": 14,
     "metadata": {},
     "output_type": "execute_result"
    }
   ],
   "source": [
    "pd.Series(data=1)"
   ]
  },
  {
   "cell_type": "code",
   "execution_count": 10,
   "id": "2431a4e0",
   "metadata": {},
   "outputs": [
    {
     "name": "stdout",
     "output_type": "stream",
     "text": [
      "a9e3e314\n"
     ]
    }
   ],
   "source": [
    "random_bits = random.getrandbits(32)\n",
    "hash1 = \"%4x\" % random_bits\n",
    "print(hash1)"
   ]
  },
  {
   "cell_type": "code",
   "execution_count": 11,
   "id": "6902ecbe",
   "metadata": {},
   "outputs": [],
   "source": [
    "dictionary ={\n",
    "    \"name\" : \"sathiyajith\",\n",
    "    \"rollno\" : 56,\n",
    "    \"cgpa\" : 8.6,\n",
    "    \"phonenumber\" : \"9976770500\"\n",
    "}"
   ]
  },
  {
   "cell_type": "code",
   "execution_count": 12,
   "id": "f83dc116",
   "metadata": {},
   "outputs": [],
   "source": [
    "with open(f\"{hash1}.json\", \"w\") as outfile:\n",
    "    json.dump(dictionary, outfile)"
   ]
  },
  {
   "cell_type": "code",
   "execution_count": 2,
   "id": "82af5359",
   "metadata": {},
   "outputs": [],
   "source": [
    "import sys"
   ]
  },
  {
   "cell_type": "code",
   "execution_count": 3,
   "id": "5a50c8fb",
   "metadata": {},
   "outputs": [],
   "source": [
    "ScalerType = TypeVar(\"ScalerType\", bound=Union[MinMaxScaler, RobustScaler, StandardScaler])"
   ]
  },
  {
   "cell_type": "code",
   "execution_count": 24,
   "id": "0f45b6fa",
   "metadata": {},
   "outputs": [],
   "source": [
    "class CustomisedScaler(Generic[ScalerType]):\n",
    "    def __init__(self, scaler_name: str):\n",
    "        self.scaler = getattr(sys.modules[__name__], scaler_name)()\n",
    "\n",
    "    def transform(self, fpmk_train: List[FpmkCreate], fpmk_in: List[FpmkCreate]) -> List[FpmkCreate]:\n",
    "        fpmk_hist = pd.DataFrame(data=jsonable_encoder(fpmk_train))\n",
    "        fpmk_hist['fpmk'] = self.scaler.fit(fpmk_hist['fpmk'].to_numpy().reshape(-1, 1))\n",
    "        fpmk_out = pd.DataFrame(data=jsonable_encoder(fpmk_in))\n",
    "        fpmk_out['fpmk'] = self.scaler.transform(fpmk_out['fpmk'].to_numpy().reshape(-1, 1))\n",
    "        res = []\n",
    "        for item in json.loads(fpmk_out.to_json(orient='records')):\n",
    "            res.append(FpmkCreate(**item))\n",
    "        return res\n",
    "\n",
    "    def inverse_transform(self, fpmk_train: List[FpmkCreate], fpmk_in: List[FpmkCreate]) -> List[FpmkCreate]:\n",
    "        fpmk_hist = pd.DataFrame(data=jsonable_encoder(fpmk_train))\n",
    "        fpmk_hist['fpmk'] = self.scaler.fit(fpmk_hist['fpmk'].to_numpy().reshape(-1, 1))\n",
    "        fpmk_out = pd.DataFrame(data=jsonable_encoder(fpmk_in))\n",
    "        fpmk_out['fpmk'] = self.scaler.inverse_transform(fpmk_out['fpmk'].to_numpy().reshape(-1, 1))\n",
    "        res = []\n",
    "        for item in json.loads(fpmk_out.to_json(orient='records')):\n",
    "            res.append(FpmkCreate(**item))\n",
    "        return res"
   ]
  },
  {
   "cell_type": "code",
   "execution_count": 5,
   "id": "45ecba74",
   "metadata": {},
   "outputs": [],
   "source": [
    "data_in = pd.read_csv('sample/sample.csv')"
   ]
  },
  {
   "cell_type": "code",
   "execution_count": 6,
   "id": "854ae64a",
   "metadata": {},
   "outputs": [
    {
     "data": {
      "text/plain": [
       "array([[7],\n",
       "       [5],\n",
       "       [6],\n",
       "       [7],\n",
       "       [4],\n",
       "       [5],\n",
       "       [3],\n",
       "       [2]], dtype=int64)"
      ]
     },
     "execution_count": 6,
     "metadata": {},
     "output_type": "execute_result"
    }
   ],
   "source": [
    "data_in['fpmk'].to_numpy().reshape(-1,1)"
   ]
  },
  {
   "cell_type": "code",
   "execution_count": 7,
   "id": "2c1776eb",
   "metadata": {},
   "outputs": [],
   "source": [
    "res = []"
   ]
  },
  {
   "cell_type": "code",
   "execution_count": 8,
   "id": "c23155d1",
   "metadata": {},
   "outputs": [],
   "source": [
    "for item in json.loads(data_in.to_json(orient='records')):\n",
    "    res.append(FpmkCreate(**item))"
   ]
  },
  {
   "cell_type": "code",
   "execution_count": 25,
   "id": "0f846ba7",
   "metadata": {},
   "outputs": [],
   "source": [
    "cs = CustomisedScaler('MinMaxScaler')"
   ]
  },
  {
   "cell_type": "code",
   "execution_count": 26,
   "id": "abb3e2ea",
   "metadata": {},
   "outputs": [
    {
     "data": {
      "text/plain": [
       "[FpmkCreate(system='RSC', subsystem='DOR', mileage=1000, unit='km', fpmk=7.0, date=datetime.date(2022, 3, 31)),\n",
       " FpmkCreate(system='RSC', subsystem='DOR', mileage=1500, unit='km', fpmk=5.0, date=datetime.date(2022, 4, 30)),\n",
       " FpmkCreate(system='RSC', subsystem='DOR', mileage=2000, unit='km', fpmk=6.0, date=datetime.date(2022, 5, 31)),\n",
       " FpmkCreate(system='RSC', subsystem='DOR', mileage=2300, unit='km', fpmk=7.0, date=datetime.date(2022, 6, 30)),\n",
       " FpmkCreate(system='RSC', subsystem='DOR', mileage=2700, unit='km', fpmk=4.0, date=datetime.date(2022, 7, 31)),\n",
       " FpmkCreate(system='RSC', subsystem='DOR', mileage=3200, unit='km', fpmk=5.0, date=datetime.date(2022, 8, 31)),\n",
       " FpmkCreate(system='RSC', subsystem='DOR', mileage=3400, unit='km', fpmk=3.0, date=datetime.date(2022, 9, 30)),\n",
       " FpmkCreate(system='RSC', subsystem='DOR', mileage=4000, unit='km', fpmk=2.0, date=datetime.date(2022, 10, 31))]"
      ]
     },
     "execution_count": 26,
     "metadata": {},
     "output_type": "execute_result"
    }
   ],
   "source": [
    "res"
   ]
  },
  {
   "cell_type": "code",
   "execution_count": 27,
   "id": "ecc6de6e",
   "metadata": {},
   "outputs": [],
   "source": [
    "t = cs.transform(fpmk_train=res, fpmk_in=res)"
   ]
  },
  {
   "cell_type": "code",
   "execution_count": 28,
   "id": "7a06700c",
   "metadata": {},
   "outputs": [
    {
     "data": {
      "text/plain": [
       "[FpmkCreate(system='RSC', subsystem='DOR', mileage=1000, unit='km', fpmk=7.0, date=datetime.date(2022, 3, 31)),\n",
       " FpmkCreate(system='RSC', subsystem='DOR', mileage=1500, unit='km', fpmk=5.0, date=datetime.date(2022, 4, 30)),\n",
       " FpmkCreate(system='RSC', subsystem='DOR', mileage=2000, unit='km', fpmk=6.0, date=datetime.date(2022, 5, 31)),\n",
       " FpmkCreate(system='RSC', subsystem='DOR', mileage=2300, unit='km', fpmk=7.0, date=datetime.date(2022, 6, 30)),\n",
       " FpmkCreate(system='RSC', subsystem='DOR', mileage=2700, unit='km', fpmk=4.0, date=datetime.date(2022, 7, 31)),\n",
       " FpmkCreate(system='RSC', subsystem='DOR', mileage=3200, unit='km', fpmk=5.0, date=datetime.date(2022, 8, 31)),\n",
       " FpmkCreate(system='RSC', subsystem='DOR', mileage=3400, unit='km', fpmk=3.0, date=datetime.date(2022, 9, 30)),\n",
       " FpmkCreate(system='RSC', subsystem='DOR', mileage=4000, unit='km', fpmk=2.0, date=datetime.date(2022, 10, 31))]"
      ]
     },
     "execution_count": 28,
     "metadata": {},
     "output_type": "execute_result"
    }
   ],
   "source": [
    "cs.inverse_transform(fpmk_train=res, fpmk_in=t)"
   ]
  },
  {
   "cell_type": "code",
   "execution_count": 24,
   "id": "70eb7fd0",
   "metadata": {},
   "outputs": [],
   "source": [
    "from typing import List, Union"
   ]
  },
  {
   "cell_type": "code",
   "execution_count": 27,
   "id": "98d3ab8a",
   "metadata": {},
   "outputs": [
    {
     "ename": "ValidationError",
     "evalue": "2 validation errors for Fpmk\nmileage\n  field required (type=value_error.missing)\nunit\n  field required (type=value_error.missing)",
     "output_type": "error",
     "traceback": [
      "\u001b[1;31m---------------------------------------------------------------------------\u001b[0m",
      "\u001b[1;31mValidationError\u001b[0m                           Traceback (most recent call last)",
      "\u001b[1;32m~\\AppData\\Local\\Temp\\ipykernel_20332\\4104232176.py\u001b[0m in \u001b[0;36m<module>\u001b[1;34m\u001b[0m\n\u001b[1;32m----> 1\u001b[1;33m \u001b[0mfpmk_1\u001b[0m \u001b[1;33m=\u001b[0m \u001b[0mschemas\u001b[0m\u001b[1;33m.\u001b[0m\u001b[0mFpmk\u001b[0m\u001b[1;33m(\u001b[0m\u001b[0mdate\u001b[0m\u001b[1;33m=\u001b[0m\u001b[1;34m'2021-03-31'\u001b[0m\u001b[1;33m,\u001b[0m \u001b[0mfpmk\u001b[0m\u001b[1;33m=\u001b[0m\u001b[1;36m12\u001b[0m\u001b[1;33m,\u001b[0m \u001b[0msubsystem\u001b[0m\u001b[1;33m=\u001b[0m\u001b[1;34m'DOR'\u001b[0m\u001b[1;33m,\u001b[0m \u001b[0msystem\u001b[0m\u001b[1;33m=\u001b[0m\u001b[1;34m'RSC'\u001b[0m\u001b[1;33m)\u001b[0m\u001b[1;33m\u001b[0m\u001b[1;33m\u001b[0m\u001b[0m\n\u001b[0m",
      "\u001b[1;32m~\\Anaconda3\\lib\\site-packages\\pydantic\\main.cp39-win_amd64.pyd\u001b[0m in \u001b[0;36mpydantic.main.BaseModel.__init__\u001b[1;34m()\u001b[0m\n",
      "\u001b[1;31mValidationError\u001b[0m: 2 validation errors for Fpmk\nmileage\n  field required (type=value_error.missing)\nunit\n  field required (type=value_error.missing)"
     ]
    }
   ],
   "source": [
    "fpmk_1 = schemas.Fpmk(date='2021-03-31', fpmk=12, subsystem='DOR', system='RSC')"
   ]
  },
  {
   "cell_type": "code",
   "execution_count": null,
   "id": "d62a2df6",
   "metadata": {},
   "outputs": [],
   "source": [
    "fpmk_2 = schemas.Fpmk(date='2021-04-30', fpmk=13, subsystem='DOR', system='RSC')"
   ]
  },
  {
   "cell_type": "code",
   "execution_count": 18,
   "id": "fcd9d718",
   "metadata": {},
   "outputs": [
    {
     "ename": "NameError",
     "evalue": "name 'schemas' is not defined",
     "output_type": "error",
     "traceback": [
      "\u001b[1;31m---------------------------------------------------------------------------\u001b[0m",
      "\u001b[1;31mNameError\u001b[0m                                 Traceback (most recent call last)",
      "\u001b[1;32m~\\AppData\\Local\\Temp\\ipykernel_20332\\3109665079.py\u001b[0m in \u001b[0;36m<module>\u001b[1;34m\u001b[0m\n\u001b[1;32m----> 1\u001b[1;33m \u001b[0mfpmk_3\u001b[0m \u001b[1;33m=\u001b[0m \u001b[0mschemas\u001b[0m\u001b[1;33m.\u001b[0m\u001b[0mFpmk\u001b[0m\u001b[1;33m(\u001b[0m\u001b[0mdate\u001b[0m\u001b[1;33m=\u001b[0m\u001b[1;34m'2021-05-31'\u001b[0m\u001b[1;33m,\u001b[0m \u001b[0mfpmk\u001b[0m\u001b[1;33m=\u001b[0m\u001b[1;36m18\u001b[0m\u001b[1;33m,\u001b[0m \u001b[0msubsystem\u001b[0m\u001b[1;33m=\u001b[0m\u001b[1;34m'DOR'\u001b[0m\u001b[1;33m,\u001b[0m \u001b[0msystem\u001b[0m\u001b[1;33m=\u001b[0m\u001b[1;34m'RSC'\u001b[0m\u001b[1;33m)\u001b[0m\u001b[1;33m\u001b[0m\u001b[1;33m\u001b[0m\u001b[0m\n\u001b[0m",
      "\u001b[1;31mNameError\u001b[0m: name 'schemas' is not defined"
     ]
    }
   ],
   "source": [
    "fpmk_3 = schemas.Fpmk(date='2021-05-31', fpmk=18, subsystem='DOR', system='RSC')"
   ]
  },
  {
   "cell_type": "code",
   "execution_count": 9,
   "id": "1a0b88b0",
   "metadata": {},
   "outputs": [],
   "source": [
    "fpmk_list = [fpmk_1, fpmk_2, fpmk_3]"
   ]
  },
  {
   "cell_type": "code",
   "execution_count": 50,
   "id": "daadeeb7",
   "metadata": {},
   "outputs": [],
   "source": [
    "import pandas as pd\n",
    "import json"
   ]
  },
  {
   "cell_type": "code",
   "execution_count": 51,
   "id": "d1a44be5",
   "metadata": {},
   "outputs": [],
   "source": [
    "df = pd.DataFrame(data=jsonable_encoder(fpmk_list))"
   ]
  },
  {
   "cell_type": "code",
   "execution_count": 52,
   "id": "7390833e",
   "metadata": {},
   "outputs": [],
   "source": [
    "df['date'] = pd.to_datetime(df['date'])"
   ]
  },
  {
   "cell_type": "code",
   "execution_count": 64,
   "id": "d5607da4",
   "metadata": {},
   "outputs": [
    {
     "data": {
      "text/plain": [
       "(3,)"
      ]
     },
     "execution_count": 64,
     "metadata": {},
     "output_type": "execute_result"
    }
   ],
   "source": [
    "df['date']"
   ]
  },
  {
   "cell_type": "code",
   "execution_count": 53,
   "id": "c3806ff5",
   "metadata": {},
   "outputs": [],
   "source": [
    "res = []\n",
    "for item in json.loads(df.to_json(orient='records')):\n",
    "    res.append(schemas.Fpmk(**item))"
   ]
  },
  {
   "cell_type": "code",
   "execution_count": 54,
   "id": "f4e87053",
   "metadata": {},
   "outputs": [
    {
     "data": {
      "text/plain": [
       "[Fpmk(system='RSC', subsystem='DOR', fpmk=12, date=datetime.date(2021, 3, 31)),\n",
       " Fpmk(system='RSC', subsystem='DOR', fpmk=13, date=datetime.date(2021, 4, 30)),\n",
       " Fpmk(system='RSC', subsystem='DOR', fpmk=18, date=datetime.date(2021, 5, 31))]"
      ]
     },
     "execution_count": 54,
     "metadata": {},
     "output_type": "execute_result"
    }
   ],
   "source": [
    "res"
   ]
  },
  {
   "cell_type": "code",
   "execution_count": 59,
   "id": "2bc43fe7",
   "metadata": {},
   "outputs": [
    {
     "data": {
      "text/plain": [
       "True"
      ]
     },
     "execution_count": 59,
     "metadata": {},
     "output_type": "execute_result"
    }
   ],
   "source": [
    "'system' in df.columns"
   ]
  },
  {
   "cell_type": "code",
   "execution_count": 58,
   "id": "13db027f",
   "metadata": {},
   "outputs": [
    {
     "name": "stdout",
     "output_type": "stream",
     "text": [
      "system\n",
      "subsystem\n",
      "fpmk\n",
      "date\n"
     ]
    }
   ],
   "source": [
    "for c in df.columns:\n",
    "    print(c)"
   ]
  },
  {
   "cell_type": "code",
   "execution_count": 15,
   "id": "4a7cfdc2",
   "metadata": {},
   "outputs": [],
   "source": [
    "df.set_index('date', inplace=True)"
   ]
  },
  {
   "cell_type": "code",
   "execution_count": 16,
   "id": "9999003b",
   "metadata": {},
   "outputs": [],
   "source": [
    "df = df.asfreq('M')"
   ]
  },
  {
   "cell_type": "code",
   "execution_count": 90,
   "id": "240694a5",
   "metadata": {},
   "outputs": [
    {
     "data": {
      "text/plain": [
       "'RSC'"
      ]
     },
     "execution_count": 90,
     "metadata": {},
     "output_type": "execute_result"
    }
   ],
   "source": [
    "df['system'].mode().values[0]"
   ]
  },
  {
   "cell_type": "code",
   "execution_count": 18,
   "id": "6dda66b1",
   "metadata": {},
   "outputs": [
    {
     "data": {
      "text/plain": [
       "Timestamp('2021-06-30 00:00:00', freq='M')"
      ]
     },
     "execution_count": 18,
     "metadata": {},
     "output_type": "execute_result"
    }
   ],
   "source": [
    "df['fpmk'].index.shift(1)[-1]"
   ]
  },
  {
   "cell_type": "code",
   "execution_count": 39,
   "id": "0a5e5aae",
   "metadata": {},
   "outputs": [],
   "source": [
    "res = df['fpmk']"
   ]
  },
  {
   "cell_type": "code",
   "execution_count": 40,
   "id": "711ea368",
   "metadata": {},
   "outputs": [
    {
     "data": {
      "text/plain": [
       "date\n",
       "2021-03-31    12\n",
       "2021-04-30    13\n",
       "2021-05-31    18\n",
       "Freq: M, Name: fpmk, dtype: int64"
      ]
     },
     "execution_count": 40,
     "metadata": {},
     "output_type": "execute_result"
    }
   ],
   "source": [
    "res"
   ]
  },
  {
   "cell_type": "code",
   "execution_count": 28,
   "id": "b1e986c0",
   "metadata": {},
   "outputs": [],
   "source": [
    "res = pd.DataFrame(res, columns=['fpmk'])"
   ]
  },
  {
   "cell_type": "code",
   "execution_count": 47,
   "id": "13223525",
   "metadata": {},
   "outputs": [
    {
     "data": {
      "text/plain": [
       "date\n",
       "2021-03-31    12\n",
       "2021-04-30    13\n",
       "2021-05-31    18\n",
       "Freq: M, Name: fpmk, dtype: int64"
      ]
     },
     "execution_count": 47,
     "metadata": {},
     "output_type": "execute_result"
    }
   ],
   "source": [
    "res"
   ]
  },
  {
   "cell_type": "code",
   "execution_count": 34,
   "id": "75b39a2e",
   "metadata": {},
   "outputs": [],
   "source": [
    "res = res.reset_index()"
   ]
  },
  {
   "cell_type": "code",
   "execution_count": 82,
   "id": "6161fac2",
   "metadata": {},
   "outputs": [],
   "source": [
    "res['sys_cd'] = 'RSC'"
   ]
  },
  {
   "cell_type": "code",
   "execution_count": 36,
   "id": "b0beb08f",
   "metadata": {},
   "outputs": [
    {
     "data": {
      "text/plain": [
       "array([0, 1, 2], dtype=int64)"
      ]
     },
     "execution_count": 36,
     "metadata": {},
     "output_type": "execute_result"
    }
   ],
   "source": [
    "res.index.values"
   ]
  },
  {
   "cell_type": "code",
   "execution_count": 1,
   "id": "29de8d23",
   "metadata": {},
   "outputs": [],
   "source": [
    "import numpy as np"
   ]
  },
  {
   "cell_type": "code",
   "execution_count": 25,
   "id": "76b1cba4",
   "metadata": {},
   "outputs": [
    {
     "data": {
      "text/plain": [
       "3.4011973816621555"
      ]
     },
     "execution_count": 25,
     "metadata": {},
     "output_type": "execute_result"
    }
   ],
   "source": [
    "np.log(30)"
   ]
  },
  {
   "cell_type": "code",
   "execution_count": 27,
   "id": "bd5501a5",
   "metadata": {},
   "outputs": [
    {
     "data": {
      "text/plain": [
       "array(['2021-03-31T00:00:00.000000000', '2021-04-30T00:00:00.000000000',\n",
       "       '2021-05-31T00:00:00.000000000'], dtype='datetime64[ns]')"
      ]
     },
     "execution_count": 27,
     "metadata": {},
     "output_type": "execute_result"
    }
   ],
   "source": [
    "res.index.values"
   ]
  },
  {
   "cell_type": "code",
   "execution_count": 43,
   "id": "30e3f032",
   "metadata": {},
   "outputs": [
    {
     "data": {
      "text/plain": [
       "[1, 2, 3, 4, 5]"
      ]
     },
     "execution_count": 43,
     "metadata": {},
     "output_type": "execute_result"
    }
   ],
   "source": [
    "[x for x in range(1, 6)]"
   ]
  },
  {
   "cell_type": "code",
   "execution_count": 66,
   "id": "4c6e8b83",
   "metadata": {},
   "outputs": [
    {
     "data": {
      "text/plain": [
       "64843.56150250006"
      ]
     },
     "execution_count": 66,
     "metadata": {},
     "output_type": "execute_result"
    }
   ],
   "source": [
    "1.1**10 * 25000"
   ]
  },
  {
   "cell_type": "code",
   "execution_count": 85,
   "id": "7764e2e1",
   "metadata": {},
   "outputs": [
    {
     "data": {
      "text/plain": [
       "array([[3],\n",
       "       [4],\n",
       "       [5]])"
      ]
     },
     "execution_count": 85,
     "metadata": {},
     "output_type": "execute_result"
    }
   ],
   "source": [
    "np.arange(3, 6).reshape(-1, 1)"
   ]
  },
  {
   "cell_type": "code",
   "execution_count": null,
   "id": "9df41657",
   "metadata": {},
   "outputs": [],
   "source": []
  }
 ],
 "metadata": {
  "kernelspec": {
   "display_name": "fastEnv",
   "language": "python",
   "name": "fastenv"
  },
  "language_info": {
   "codemirror_mode": {
    "name": "ipython",
    "version": 3
   },
   "file_extension": ".py",
   "mimetype": "text/x-python",
   "name": "python",
   "nbconvert_exporter": "python",
   "pygments_lexer": "ipython3",
   "version": "3.8.5"
  }
 },
 "nbformat": 4,
 "nbformat_minor": 5
}
