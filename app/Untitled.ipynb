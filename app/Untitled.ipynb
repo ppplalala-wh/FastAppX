{
 "cells": [
  {
   "cell_type": "code",
   "execution_count": 1,
   "id": "44bde84a",
   "metadata": {},
   "outputs": [],
   "source": [
    "import schemas"
   ]
  },
  {
   "cell_type": "code",
   "execution_count": 2,
   "id": "06fa5241",
   "metadata": {},
   "outputs": [],
   "source": [
    "from fastapi.encoders import jsonable_encoder"
   ]
  },
  {
   "cell_type": "code",
   "execution_count": 3,
   "id": "4360c717",
   "metadata": {},
   "outputs": [],
   "source": [
    "from typing import List, Union"
   ]
  },
  {
   "cell_type": "code",
   "execution_count": 4,
   "id": "49e43c0a",
   "metadata": {},
   "outputs": [],
   "source": [
    "fpmk_1 = schemas.Fpmk(date='2021-03-31', fpmk=12, subsystem='DOR', system='RSC')"
   ]
  },
  {
   "cell_type": "code",
   "execution_count": 5,
   "id": "9879fa63",
   "metadata": {},
   "outputs": [],
   "source": [
    "fpmk_2 = schemas.Fpmk(date='2021-04-30', fpmk=13, subsystem='DOR', system='RSC')"
   ]
  },
  {
   "cell_type": "code",
   "execution_count": 6,
   "id": "67b6c5da",
   "metadata": {},
   "outputs": [],
   "source": [
    "fpmk_3 = schemas.Fpmk(date='2021-05-31', fpmk=18, subsystem='DOR', system='RSC')"
   ]
  },
  {
   "cell_type": "code",
   "execution_count": 7,
   "id": "b26752bb",
   "metadata": {},
   "outputs": [],
   "source": [
    "fpmk_list = [fpmk_1, fpmk_2, fpmk_3]"
   ]
  },
  {
   "cell_type": "code",
   "execution_count": 27,
   "id": "820f614e",
   "metadata": {},
   "outputs": [],
   "source": [
    "import pandas as pd\n",
    "import json"
   ]
  },
  {
   "cell_type": "code",
   "execution_count": 54,
   "id": "68c7c3ad",
   "metadata": {},
   "outputs": [],
   "source": [
    "df = pd.DataFrame(data=jsonable_encoder(fpmk_list))"
   ]
  },
  {
   "cell_type": "code",
   "execution_count": 55,
   "id": "dadaec06",
   "metadata": {},
   "outputs": [],
   "source": [
    "df['date'] = pd.to_datetime(df['date'])"
   ]
  },
  {
   "cell_type": "code",
   "execution_count": 56,
   "id": "b58ffa86",
   "metadata": {},
   "outputs": [],
   "source": [
    "res = []\n",
    "for item in json.loads(df.to_json(orient='records')):\n",
    "    res.append(schemas.Fpmk(**item))"
   ]
  },
  {
   "cell_type": "code",
   "execution_count": 57,
   "id": "267b8a76",
   "metadata": {},
   "outputs": [
    {
     "data": {
      "text/plain": [
       "[Fpmk(system='RSC', subsystem='DOR', fpmk=12, date=datetime.date(2021, 3, 31)),\n",
       " Fpmk(system='RSC', subsystem='DOR', fpmk=13, date=datetime.date(2021, 4, 30)),\n",
       " Fpmk(system='RSC', subsystem='DOR', fpmk=18, date=datetime.date(2021, 5, 31))]"
      ]
     },
     "execution_count": 57,
     "metadata": {},
     "output_type": "execute_result"
    }
   ],
   "source": [
    "res"
   ]
  },
  {
   "cell_type": "code",
   "execution_count": 58,
   "id": "96d190be",
   "metadata": {},
   "outputs": [],
   "source": [
    "df.set_index('date', inplace=True)"
   ]
  },
  {
   "cell_type": "code",
   "execution_count": 65,
   "id": "56486d4d",
   "metadata": {},
   "outputs": [],
   "source": [
    "df = df.asfreq('M')"
   ]
  },
  {
   "cell_type": "code",
   "execution_count": 97,
   "id": "d16828ea",
   "metadata": {},
   "outputs": [
    {
     "data": {
      "text/plain": [
       "'RSC'"
      ]
     },
     "execution_count": 97,
     "metadata": {},
     "output_type": "execute_result"
    }
   ],
   "source": [
    "df['system'].mode().values[0]"
   ]
  },
  {
   "cell_type": "code",
   "execution_count": 72,
   "id": "a220026d",
   "metadata": {},
   "outputs": [
    {
     "data": {
      "text/plain": [
       "Timestamp('2021-06-30 00:00:00', freq='M')"
      ]
     },
     "execution_count": 72,
     "metadata": {},
     "output_type": "execute_result"
    }
   ],
   "source": [
    "df['fpmk'].index.shift(1)[-1]"
   ]
  },
  {
   "cell_type": "code",
   "execution_count": 98,
   "id": "c67a362d",
   "metadata": {},
   "outputs": [],
   "source": [
    "res = df['fpmk']"
   ]
  },
  {
   "cell_type": "code",
   "execution_count": 99,
   "id": "466f9985",
   "metadata": {},
   "outputs": [
    {
     "data": {
      "text/plain": [
       "date\n",
       "2021-03-31    12\n",
       "2021-04-30    13\n",
       "2021-05-31    18\n",
       "Freq: M, Name: fpmk, dtype: int64"
      ]
     },
     "execution_count": 99,
     "metadata": {},
     "output_type": "execute_result"
    }
   ],
   "source": [
    "res"
   ]
  },
  {
   "cell_type": "code",
   "execution_count": 100,
   "id": "b5a2ecd2",
   "metadata": {},
   "outputs": [],
   "source": [
    "res = pd.DataFrame(res, columns=['fpmk'])"
   ]
  },
  {
   "cell_type": "code",
   "execution_count": 101,
   "id": "7f0c0475",
   "metadata": {},
   "outputs": [
    {
     "data": {
      "text/html": [
       "<div>\n",
       "<style scoped>\n",
       "    .dataframe tbody tr th:only-of-type {\n",
       "        vertical-align: middle;\n",
       "    }\n",
       "\n",
       "    .dataframe tbody tr th {\n",
       "        vertical-align: top;\n",
       "    }\n",
       "\n",
       "    .dataframe thead th {\n",
       "        text-align: right;\n",
       "    }\n",
       "</style>\n",
       "<table border=\"1\" class=\"dataframe\">\n",
       "  <thead>\n",
       "    <tr style=\"text-align: right;\">\n",
       "      <th></th>\n",
       "      <th>fpmk</th>\n",
       "    </tr>\n",
       "    <tr>\n",
       "      <th>date</th>\n",
       "      <th></th>\n",
       "    </tr>\n",
       "  </thead>\n",
       "  <tbody>\n",
       "    <tr>\n",
       "      <th>2021-03-31</th>\n",
       "      <td>12</td>\n",
       "    </tr>\n",
       "    <tr>\n",
       "      <th>2021-04-30</th>\n",
       "      <td>13</td>\n",
       "    </tr>\n",
       "    <tr>\n",
       "      <th>2021-05-31</th>\n",
       "      <td>18</td>\n",
       "    </tr>\n",
       "  </tbody>\n",
       "</table>\n",
       "</div>"
      ],
      "text/plain": [
       "            fpmk\n",
       "date            \n",
       "2021-03-31    12\n",
       "2021-04-30    13\n",
       "2021-05-31    18"
      ]
     },
     "execution_count": 101,
     "metadata": {},
     "output_type": "execute_result"
    }
   ],
   "source": [
    "res"
   ]
  },
  {
   "cell_type": "code",
   "execution_count": 82,
   "id": "52eeba34",
   "metadata": {},
   "outputs": [],
   "source": [
    "res['sys_cd'] = 'RSC'"
   ]
  },
  {
   "cell_type": "code",
   "execution_count": 83,
   "id": "3a750ec6",
   "metadata": {},
   "outputs": [
    {
     "data": {
      "text/html": [
       "<div>\n",
       "<style scoped>\n",
       "    .dataframe tbody tr th:only-of-type {\n",
       "        vertical-align: middle;\n",
       "    }\n",
       "\n",
       "    .dataframe tbody tr th {\n",
       "        vertical-align: top;\n",
       "    }\n",
       "\n",
       "    .dataframe thead th {\n",
       "        text-align: right;\n",
       "    }\n",
       "</style>\n",
       "<table border=\"1\" class=\"dataframe\">\n",
       "  <thead>\n",
       "    <tr style=\"text-align: right;\">\n",
       "      <th></th>\n",
       "      <th>fpmk</th>\n",
       "      <th>sys_cd</th>\n",
       "    </tr>\n",
       "    <tr>\n",
       "      <th>date</th>\n",
       "      <th></th>\n",
       "      <th></th>\n",
       "    </tr>\n",
       "  </thead>\n",
       "  <tbody>\n",
       "    <tr>\n",
       "      <th>2021-03-31</th>\n",
       "      <td>12</td>\n",
       "      <td>RSC</td>\n",
       "    </tr>\n",
       "    <tr>\n",
       "      <th>2021-04-30</th>\n",
       "      <td>13</td>\n",
       "      <td>RSC</td>\n",
       "    </tr>\n",
       "    <tr>\n",
       "      <th>2021-05-31</th>\n",
       "      <td>18</td>\n",
       "      <td>RSC</td>\n",
       "    </tr>\n",
       "  </tbody>\n",
       "</table>\n",
       "</div>"
      ],
      "text/plain": [
       "            fpmk sys_cd\n",
       "date                   \n",
       "2021-03-31    12    RSC\n",
       "2021-04-30    13    RSC\n",
       "2021-05-31    18    RSC"
      ]
     },
     "execution_count": 83,
     "metadata": {},
     "output_type": "execute_result"
    }
   ],
   "source": [
    "res"
   ]
  },
  {
   "cell_type": "code",
   "execution_count": null,
   "id": "9f85c3db",
   "metadata": {},
   "outputs": [],
   "source": []
  }
 ],
 "metadata": {
  "kernelspec": {
   "display_name": "Python 3 (ipykernel)",
   "language": "python",
   "name": "python3"
  },
  "language_info": {
   "codemirror_mode": {
    "name": "ipython",
    "version": 3
   },
   "file_extension": ".py",
   "mimetype": "text/x-python",
   "name": "python",
   "nbconvert_exporter": "python",
   "pygments_lexer": "ipython3",
   "version": "3.9.13"
  }
 },
 "nbformat": 4,
 "nbformat_minor": 5
}
